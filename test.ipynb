{
 "cells": [
  {
   "cell_type": "code",
   "execution_count": null,
   "id": "7480a59f",
   "metadata": {},
   "outputs": [],
   "source": []
  },
  {
   "cell_type": "code",
   "execution_count": 1,
   "id": "e8ce580e",
   "metadata": {},
   "outputs": [
    {
     "name": "stdout",
     "output_type": "stream",
     "text": [
      "/Users/orban/github/hcipy/hcipy/__init__.py\n",
      "0.4.1.dev137+gc1ea9e5\n"
     ]
    }
   ],
   "source": [
    "%matplotlib widget\n",
    "import time\n",
    "import os\n",
    "import matplotlib.pyplot as plt\n",
    "import numpy as np\n",
    "from astropy.io import fits\n",
    "import sys\n",
    "import os\n",
    "\n",
    "import hcipy\n",
    "\n",
    "import psi as psi\n",
    "import instruments\n",
    "from psiSensor import PsiSensor"
   ]
  },
  {
   "cell_type": "markdown",
   "id": "2a65ae48",
   "metadata": {},
   "source": [
    "# Basic one-iteration"
   ]
  },
  {
   "cell_type": "code",
   "execution_count": 2,
   "id": "10b59158",
   "metadata": {},
   "outputs": [
    {
     "name": "stdout",
     "output_type": "stream",
     "text": [
      "PSI - [Notice] :  Loading and checking configuration\n"
     ]
    }
   ],
   "source": [
    "config_file = 'config/config_metis_compass.py'\n",
    "psi_sensor = PsiSensor(config_file)\n"
   ]
  },
  {
   "cell_type": "code",
   "execution_count": 3,
   "id": "7852422d",
   "metadata": {},
   "outputs": [
    {
     "name": "stdout",
     "output_type": "stream",
     "text": [
      "PSI - [Notice] :  Initialize the instrument object & building the optical model\n",
      "CompassInstrument - [Notice] :  Building a simple imager in HCIPy\n",
      "PSI - [Notice] :  Building modal basis for projectiong/filtering of the NCPA map\n",
      "PSI - [Notice] :  Results will be stored in /Users/orban/Projects/METIS/4.PSI/psi_results/orban_config_metis_compass_2022-05-13T15:09:16/\n"
     ]
    }
   ],
   "source": [
    "psi_sensor.setup()"
   ]
  },
  {
   "cell_type": "code",
   "execution_count": 4,
   "id": "088dbe81",
   "metadata": {},
   "outputs": [
    {
     "name": "stdout",
     "output_type": "stream",
     "text": [
      "Total execution time: 278 ms\n"
     ]
    },
    {
     "data": {
      "application/vnd.jupyter.widget-view+json": {
       "model_id": "ae1db270de344d6b8089bf3ebc89cc0d",
       "version_major": 2,
       "version_minor": 0
      },
      "text/plain": [
       "Canvas(toolbar=Toolbar(toolitems=[('Home', 'Reset original view', 'home', 'home'), ('Back', 'Back to previous …"
      ]
     },
     "metadata": {},
     "output_type": "display_data"
    },
    {
     "ename": "AttributeError",
     "evalue": "type object 'FigureCanvasBase' has no attribute 'start_event_loop_default'",
     "output_type": "error",
     "traceback": [
      "\u001b[0;31m---------------------------------------------------------------------------\u001b[0m",
      "\u001b[0;31mAttributeError\u001b[0m                            Traceback (most recent call last)",
      "\u001b[0;32m<ipython-input-4-bb98b5fb8eb9>\u001b[0m in \u001b[0;36m<module>\u001b[0;34m\u001b[0m\n\u001b[0;32m----> 1\u001b[0;31m \u001b[0mpsi_sensor\u001b[0m\u001b[0;34m.\u001b[0m\u001b[0mnext\u001b[0m\u001b[0;34m(\u001b[0m\u001b[0mdisplay\u001b[0m\u001b[0;34m=\u001b[0m\u001b[0;32mTrue\u001b[0m\u001b[0;34m)\u001b[0m\u001b[0;34m\u001b[0m\u001b[0;34m\u001b[0m\u001b[0m\n\u001b[0m",
      "\u001b[0;32m~/Projects/METIS/4.PSI/psi_github/psiSensor.py\u001b[0m in \u001b[0;36mnext\u001b[0;34m(self, display, check)\u001b[0m\n\u001b[1;32m    287\u001b[0m                 \u001b[0;32mif\u001b[0m \u001b[0mdisplay\u001b[0m\u001b[0;34m:\u001b[0m\u001b[0;34m\u001b[0m\u001b[0;34m\u001b[0m\u001b[0m\n\u001b[1;32m    288\u001b[0m                         \u001b[0mI_avg\u001b[0m \u001b[0;34m=\u001b[0m \u001b[0mscience_images_buffer\u001b[0m\u001b[0;34m.\u001b[0m\u001b[0mmean\u001b[0m\u001b[0;34m(\u001b[0m\u001b[0;36m0\u001b[0m\u001b[0;34m)\u001b[0m\u001b[0;34m\u001b[0m\u001b[0;34m\u001b[0m\u001b[0m\n\u001b[0;32m--> 289\u001b[0;31m                         \u001b[0mself\u001b[0m\u001b[0;34m.\u001b[0m\u001b[0mshow\u001b[0m\u001b[0;34m(\u001b[0m\u001b[0mI_avg\u001b[0m\u001b[0;34m,\u001b[0m \u001b[0mncpa_estimate\u001b[0m\u001b[0;34m)\u001b[0m\u001b[0;34m\u001b[0m\u001b[0;34m\u001b[0m\u001b[0m\n\u001b[0m\u001b[1;32m    290\u001b[0m \u001b[0;34m\u001b[0m\u001b[0m\n\u001b[1;32m    291\u001b[0m         \u001b[0;32mdef\u001b[0m \u001b[0mloop\u001b[0m\u001b[0;34m(\u001b[0m\u001b[0mself\u001b[0m\u001b[0;34m)\u001b[0m\u001b[0;34m:\u001b[0m\u001b[0;34m\u001b[0m\u001b[0;34m\u001b[0m\u001b[0m\n",
      "\u001b[0;32m~/Projects/METIS/4.PSI/psi_github/psiSensor.py\u001b[0m in \u001b[0;36mshow\u001b[0;34m(self, I_avg, ncpa_estimate)\u001b[0m\n\u001b[1;32m    329\u001b[0m \u001b[0;34m\u001b[0m\u001b[0m\n\u001b[1;32m    330\u001b[0m                 \u001b[0mplt\u001b[0m\u001b[0;34m.\u001b[0m\u001b[0mdraw\u001b[0m\u001b[0;34m(\u001b[0m\u001b[0;34m)\u001b[0m\u001b[0;34m\u001b[0m\u001b[0;34m\u001b[0m\u001b[0m\n\u001b[0;32m--> 331\u001b[0;31m                 \u001b[0mplt\u001b[0m\u001b[0;34m.\u001b[0m\u001b[0mpause\u001b[0m\u001b[0;34m(\u001b[0m\u001b[0;36m0.01\u001b[0m\u001b[0;34m)\u001b[0m\u001b[0;34m\u001b[0m\u001b[0;34m\u001b[0m\u001b[0m\n\u001b[0m\u001b[1;32m    332\u001b[0m \u001b[0;34m\u001b[0m\u001b[0m\n\u001b[1;32m    333\u001b[0m         \u001b[0;32mdef\u001b[0m \u001b[0mcheckPsiConvergence\u001b[0m\u001b[0;34m(\u001b[0m\u001b[0mself\u001b[0m\u001b[0;34m)\u001b[0m\u001b[0;34m:\u001b[0m\u001b[0;34m\u001b[0m\u001b[0;34m\u001b[0m\u001b[0m\n",
      "\u001b[0;32m~/opt/anaconda3/lib/python3.7/site-packages/matplotlib/pyplot.py\u001b[0m in \u001b[0;36mpause\u001b[0;34m(interval)\u001b[0m\n\u001b[1;32m    436\u001b[0m             \u001b[0mcanvas\u001b[0m\u001b[0;34m.\u001b[0m\u001b[0mdraw_idle\u001b[0m\u001b[0;34m(\u001b[0m\u001b[0;34m)\u001b[0m\u001b[0;34m\u001b[0m\u001b[0;34m\u001b[0m\u001b[0m\n\u001b[1;32m    437\u001b[0m         \u001b[0mshow\u001b[0m\u001b[0;34m(\u001b[0m\u001b[0mblock\u001b[0m\u001b[0;34m=\u001b[0m\u001b[0;32mFalse\u001b[0m\u001b[0;34m)\u001b[0m\u001b[0;34m\u001b[0m\u001b[0;34m\u001b[0m\u001b[0m\n\u001b[0;32m--> 438\u001b[0;31m         \u001b[0mcanvas\u001b[0m\u001b[0;34m.\u001b[0m\u001b[0mstart_event_loop\u001b[0m\u001b[0;34m(\u001b[0m\u001b[0minterval\u001b[0m\u001b[0;34m)\u001b[0m\u001b[0;34m\u001b[0m\u001b[0;34m\u001b[0m\u001b[0m\n\u001b[0m\u001b[1;32m    439\u001b[0m     \u001b[0;32melse\u001b[0m\u001b[0;34m:\u001b[0m\u001b[0;34m\u001b[0m\u001b[0;34m\u001b[0m\u001b[0m\n\u001b[1;32m    440\u001b[0m         \u001b[0mtime\u001b[0m\u001b[0;34m.\u001b[0m\u001b[0msleep\u001b[0m\u001b[0;34m(\u001b[0m\u001b[0minterval\u001b[0m\u001b[0;34m)\u001b[0m\u001b[0;34m\u001b[0m\u001b[0;34m\u001b[0m\u001b[0m\n",
      "\u001b[0;32m~/opt/anaconda3/lib/python3.7/site-packages/ipympl/backend_nbagg.py\u001b[0m in \u001b[0;36mstart_event_loop\u001b[0;34m(self, timeout)\u001b[0m\n\u001b[1;32m    243\u001b[0m \u001b[0;34m\u001b[0m\u001b[0m\n\u001b[1;32m    244\u001b[0m     \u001b[0;32mdef\u001b[0m \u001b[0mstart_event_loop\u001b[0m\u001b[0;34m(\u001b[0m\u001b[0mself\u001b[0m\u001b[0;34m,\u001b[0m \u001b[0mtimeout\u001b[0m\u001b[0;34m)\u001b[0m\u001b[0;34m:\u001b[0m\u001b[0;34m\u001b[0m\u001b[0;34m\u001b[0m\u001b[0m\n\u001b[0;32m--> 245\u001b[0;31m         \u001b[0mFigureCanvasBase\u001b[0m\u001b[0;34m.\u001b[0m\u001b[0mstart_event_loop_default\u001b[0m\u001b[0;34m(\u001b[0m\u001b[0mself\u001b[0m\u001b[0;34m,\u001b[0m \u001b[0mtimeout\u001b[0m\u001b[0;34m)\u001b[0m\u001b[0;34m\u001b[0m\u001b[0;34m\u001b[0m\u001b[0m\n\u001b[0m\u001b[1;32m    246\u001b[0m \u001b[0;34m\u001b[0m\u001b[0m\n\u001b[1;32m    247\u001b[0m     \u001b[0;32mdef\u001b[0m \u001b[0mstop_event_loop\u001b[0m\u001b[0;34m(\u001b[0m\u001b[0mself\u001b[0m\u001b[0;34m)\u001b[0m\u001b[0;34m:\u001b[0m\u001b[0;34m\u001b[0m\u001b[0;34m\u001b[0m\u001b[0m\n",
      "\u001b[0;31mAttributeError\u001b[0m: type object 'FigureCanvasBase' has no attribute 'start_event_loop_default'"
     ]
    }
   ],
   "source": [
    "psi_sensor.next(display=True)"
   ]
  },
  {
   "cell_type": "markdown",
   "id": "279058fc",
   "metadata": {},
   "source": [
    "# Parameters"
   ]
  },
  {
   "cell_type": "code",
   "execution_count": 14,
   "id": "4f4c2842",
   "metadata": {},
   "outputs": [
    {
     "name": "stdout",
     "output_type": "stream",
     "text": [
      "PSI correction rate = 1Hz\n",
      "SCI DIT = 0.1s\n",
      "AO framerate = 1000Hz\n",
      "AO telemetry decimation = 10\n"
     ]
    }
   ],
   "source": [
    "print('PSI correction rate = {0}Hz'.format(psi_sensor.cfg.params.psi_framerate))\n",
    "print('SCI DIT = {0}s'.format(psi_sensor.cfg.params.dit))\n",
    "print('AO framerate = {0}Hz'.format(psi_sensor.cfg.params.ao_framerate))\n",
    "print('AO telemetry decimation = {0}'.format(psi_sensor.cfg.params.ao_frame_decimation))"
   ]
  },
  {
   "cell_type": "code",
   "execution_count": 16,
   "id": "d9da548d",
   "metadata": {},
   "outputs": [
    {
     "name": "stdout",
     "output_type": "stream",
     "text": [
      "(100, 256, 256)\n",
      "(10, 80, 80)\n"
     ]
    }
   ],
   "source": [
    "nbOfPastSeconds = 1 / psi_sensor.cfg.params.psi_framerate\n",
    "wfs_telemetry_buffer = psi_sensor.inst.grabWfsTelemetry(nbOfPastSeconds)\n",
    "sci_images_buffer = psi_sensor.inst.grabScienceImages(nbOfPastSeconds)\n",
    "\n",
    "print(wfs_telemetry_buffer.shape)\n",
    "print(sci_images_buffer.shape)"
   ]
  },
  {
   "cell_type": "code",
   "execution_count": 13,
   "id": "ec22f68f",
   "metadata": {},
   "outputs": [
    {
     "data": {
      "application/vnd.jupyter.widget-view+json": {
       "model_id": "cc65090590c54fa48033ba122c84e744",
       "version_major": 2,
       "version_minor": 0
      },
      "text/plain": [
       "Canvas(toolbar=Toolbar(toolitems=[('Home', 'Reset original view', 'home', 'home'), ('Back', 'Back to previous …"
      ]
     },
     "metadata": {},
     "output_type": "display_data"
    },
    {
     "data": {
      "text/plain": [
       "<matplotlib.image.AxesImage at 0x7fdf290fefd0>"
      ]
     },
     "execution_count": 13,
     "metadata": {},
     "output_type": "execute_result"
    }
   ],
   "source": [
    "plt.figure()\n",
    "plt.imshow(wfs_telemetry_buffer[0])"
   ]
  },
  {
   "cell_type": "markdown",
   "id": "6bf75e22",
   "metadata": {},
   "source": [
    "# Photometry"
   ]
  },
  {
   "cell_type": "code",
   "execution_count": 2,
   "id": "0add91f9",
   "metadata": {},
   "outputs": [
    {
     "name": "stdout",
     "output_type": "stream",
     "text": [
      "PSI - [Notice] :  Loading and checking configuration\n",
      "PSI - [Notice] :  Initialize the instrument object & building the optical model\n",
      "CompassInstrument - [Notice] :  Building a simple imager in HCIPy\n",
      "PSI - [Notice] :  Building modal basis for projectiong/filtering of the NCPA map\n",
      "PSI - [Notice] :  Results will be stored in /Users/orban/Projects/METIS/4.PSI/psi_results/orban_config_metis_compass_2022-05-13T16:36:12/\n"
     ]
    }
   ],
   "source": [
    "config_file = 'config/config_metis_compass.py'\n",
    "psi_sensor = PsiSensor(config_file)\n",
    "psi_sensor.setup()"
   ]
  },
  {
   "cell_type": "code",
   "execution_count": 11,
   "id": "efd07308",
   "metadata": {},
   "outputs": [],
   "source": [
    "def _propagateSpeckleFields(wfs_telemetry_buffer):\n",
    "    nf, nx, ny = wfs_telemetry_buffer.shape\n",
    "    wfs_telemetry_buffer_1d = wfs_telemetry_buffer.reshape((nf, nx*ny))\n",
    "    wfs_wavefront_hcipy = hcipy.Field(wfs_telemetry_buffer_1d, psi_sensor.inst.pupilGrid)\n",
    "    Efield = hcipy.Wavefront(psi_sensor.inst.aperture * np.exp(1j * wfs_wavefront_hcipy) \\\n",
    "                            -  psi_sensor._diffraction_component)\n",
    "    Efield.total_power = psi_sensor.nbOfPhotons * nf # * nf\n",
    "\n",
    "#     Efield_perfect = hcipy.Wavefront(psi_sensor._diffraction_component)\n",
    "#     Efield_perfect.total_power = psi_sensor.nbOfPhotons / nf\n",
    "    #\n",
    "    speckle_fields = psi_sensor.inst.optical_model(Efield)\n",
    "#     speckle_fields.total_power = psi_sensor.nbOfPhotons * nf\n",
    "#     speckle_fields_perfect = psi_sensor.inst.optical_model(Efield_perfect)#.electric_field\n",
    "    #\n",
    "    # speckle_fields = speckle_fields - speckle_fields_perfect\n",
    "#     return (speckle_fields.electric_field - speckle_fields_perfect.electric_field) * np.sqrt(speckle_fields.grid.weights)\n",
    "    return (speckle_fields.electric_field) * np.sqrt(speckle_fields.grid.weights)"
   ]
  },
  {
   "cell_type": "code",
   "execution_count": 19,
   "id": "79dc499e",
   "metadata": {},
   "outputs": [],
   "source": [
    "nbOfSeconds = 1/psi_sensor.cfg.params.psi_framerate\n",
    "psi_sensor.inst.phase_ncpa = 0\n",
    "psi_sensor.inst.include_residual_turbulence=True\n",
    "psi_sensor.inst.toto_scaling = 1\n",
    "# plt.figure()\n",
    "# plt.imshow(np.log10(psi_sensor.inst._grabOneScienceImage()))\n",
    "\n",
    "\n",
    "\n",
    "wfs_telemetry_buffer = psi_sensor.inst.grabWfsTelemetry(nbOfSeconds)\n",
    "science_images_buffer = psi_sensor.inst.grabScienceImages(nbOfSeconds)\n",
    "\n",
    "telemetry_indexing = psi_sensor.inst.synchronizeBuffers(wfs_telemetry_buffer,\n",
    "                                                      science_images_buffer)\n",
    "    \n",
    "# speckle_fields = psi_sensor._propagateSpeckleFields(wfs_telemetry_buffer)\n",
    "# speckle_fields = _propagateSpeckleFields(wfs_telemetry_buffer)\n",
    "\n",
    "\n",
    "Efield_perfect = hcipy.Wavefront(psi_sensor._diffraction_component)\n",
    "Efield_perfect.total_power = psi_sensor.nbOfPhotons\n",
    "tmp = psi_sensor.inst.optical_model(Efield_perfect)#.electric_field\n",
    "speckle_fields_perfect = tmp.electric_field * np.sqrt(tmp.grid.weights)\n",
    "\n",
    "# Slicing : one speckle field per science image\n",
    "for i in range(len(telemetry_indexing)):\n",
    "    _s, _e = telemetry_indexing[i]\n",
    "#     speckle_fields = psi_sensor._propagateSpeckleFields(wfs_telemetry_buffer[_s:_e])\n",
    "    speckle_fields = _propagateSpeckleFields(wfs_telemetry_buffer[_s:_e])\n",
    "\n",
    "#     speckle_fields -= speckle_fields_perfect\n",
    "    average_speckle_field = speckle_fields.mean(axis=0) #[_s:_e,:].mean(axis=0)\n",
    "\n",
    "    psi_sensor._speckle_field_t_psi[i] = average_speckle_field #- speckle_fields_perfect# * 100\n",
    "    psi_sensor._image_t_psi[i] = science_images_buffer[i].ravel()\n",
    "\n",
    "# TODO check if this conversion to hcipy.Field is needed\n",
    "psi_sensor._speckle_field_t_psi = hcipy.Field(psi_sensor._speckle_field_t_psi,\n",
    "                                        psi_sensor.inst.focalGrid)\n",
    "psi_sensor._image_t_psi = hcipy.Field(psi_sensor._image_t_psi,\n",
    "                                psi_sensor.inst.focalGrid)"
   ]
  },
  {
   "cell_type": "code",
   "execution_count": 17,
   "id": "aa15d73b",
   "metadata": {},
   "outputs": [
    {
     "data": {
      "text/plain": [
       "(47.645445933775136-5.268867788036754j)"
      ]
     },
     "execution_count": 17,
     "metadata": {},
     "output_type": "execute_result"
    }
   ],
   "source": [
    "speckle_fields = psi_sensor._propagateSpeckleFields(wfs_telemetry_buffer[0:10])\n",
    "speckle_fields[0, 0]"
   ]
  },
  {
   "cell_type": "code",
   "execution_count": 28,
   "id": "6098d711",
   "metadata": {},
   "outputs": [
    {
     "name": "stdout",
     "output_type": "stream",
     "text": [
      "35.83089110616331\n",
      "0.9764721482301324\n"
     ]
    },
    {
     "data": {
      "application/vnd.jupyter.widget-view+json": {
       "model_id": "ec5b2b152bd14b6bb323d83ca1bd42ee",
       "version_major": 2,
       "version_minor": 0
      },
      "text/plain": [
       "Canvas(toolbar=Toolbar(toolitems=[('Home', 'Reset original view', 'home', 'home'), ('Back', 'Back to previous …"
      ]
     },
     "metadata": {},
     "output_type": "display_data"
    },
    {
     "data": {
      "text/plain": [
       "<matplotlib.image.AxesImage at 0x7fd5721ef550>"
      ]
     },
     "execution_count": 28,
     "metadata": {},
     "output_type": "execute_result"
    }
   ],
   "source": [
    "idx = 1\n",
    "psf = psi_sensor._image_t_psi[idx]\n",
    "\n",
    "r_psf = np.abs(psi_sensor._speckle_field_t_psi[idx])**2 #* 1/16\n",
    "psf_perfect = np.abs(speckle_fields_perfect)**2\n",
    "print(np.sum(psf) / np.sum(r_psf))\n",
    "print(np.sum(psf) / np.sum(psf_perfect))\n",
    "\n",
    "plt.figure()\n",
    "plt.subplot(131)\n",
    "hcipy.imshow_field(np.sqrt(r_psf  / psf.max()))\n",
    "# plt.imshow(np.sqrt(np.real(psi_sensor._speckle_field_t_psi[idx]).shaped  / psf.max()))\n",
    "\n",
    "plt.subplot(132)\n",
    "# plt.imshow((np.abs(psf.shaped - 0.97*psf_perfect.shaped) / psf.max()), vmax=3e-4)\n",
    "plt.imshow((np.abs(psf.shaped - 0.97*psf_perfect.shaped) / psf.max()), vmax=3e-4)\n",
    "\n",
    "\n",
    "plt.subplot(133)\n",
    "plt.imshow(np.sqrt((psf_perfect.shaped) / psf.max()))\n",
    "\n",
    "    "
   ]
  },
  {
   "cell_type": "code",
   "execution_count": null,
   "id": "e91ddd7b",
   "metadata": {},
   "outputs": [],
   "source": []
  },
  {
   "cell_type": "code",
   "execution_count": null,
   "id": "4040b953",
   "metadata": {},
   "outputs": [],
   "source": []
  },
  {
   "cell_type": "markdown",
   "id": "649c7b10",
   "metadata": {},
   "source": [
    "# check apertures"
   ]
  },
  {
   "cell_type": "code",
   "execution_count": 20,
   "id": "1f06f381",
   "metadata": {},
   "outputs": [
    {
     "name": "stdout",
     "output_type": "stream",
     "text": [
      "CompassInstrument - [Notice] :  Building a Classical Vortex Coronagraph optical model in HCIPy\n"
     ]
    }
   ],
   "source": [
    "%matplotlib widget\n",
    "from configParser import loadConfiguration\n",
    "from instruments import CompassSimInstrument\n",
    "import psi\n",
    "config_file = '/Users/orban/Projects/METIS/4.PSI/psi_github/config/config_metis_compass.py'\n",
    "cfg = loadConfiguration(config_file)\n",
    "inst = CompassSimInstrument(cfg.params)\n",
    "inst.build_optical_model()"
   ]
  },
  {
   "cell_type": "code",
   "execution_count": 46,
   "id": "621be026",
   "metadata": {},
   "outputs": [],
   "source": [
    "conf = cfg.params\n",
    "self = inst\n",
    "pupil_aperture = psi.make_COMPASS_aperture(conf.f_aperture,\n",
    "                                            npupil=self._size_pupil_grid,\n",
    "                                            rot90=True)(self.pupilGrid)\n",
    "lyot_aperture = psi.make_COMPASS_aperture(conf.f_lyot_stop,\n",
    "                                                            npupil=self._size_pupil_grid,\n",
    "                                                            rot90=True)(self.pupilGrid)\n",
    "\n",
    "\n",
    "ncpa_file = self._prefix_ncpa + str(self._ncpa_index) + '.fits'\n",
    "mask_pupil = fits.getdata(self._input_folder_ncpa + ncpa_file)\n",
    "mask_pupil[mask_pupil != 0 ]=1\n",
    "# mask_pupil= np.rot90(mask_pupil)\n",
    "# mask_pupil = psi.psi_utils.resize_img(mask_pupil, self._size_pupil_grid)\n",
    "\n",
    "\n",
    "size_ = self._size_pupil_grid\n",
    "mask_pupil = psi.psi_utils.process_screen(mask_pupil, size_+6, pupil_aperture, rotate=True, ncpa_=True)\n",
    "mask_pupil = psi.psi_utils.crop_img(mask_pupil, (size_, size_))\n",
    "    \n",
    "    \n"
   ]
  },
  {
   "cell_type": "code",
   "execution_count": 52,
   "id": "fb1b19e5",
   "metadata": {},
   "outputs": [
    {
     "data": {
      "application/vnd.jupyter.widget-view+json": {
       "model_id": "404d3956ac824ab4a62683c39ce57aa3",
       "version_major": 2,
       "version_minor": 0
      },
      "text/plain": [
       "Canvas(toolbar=Toolbar(toolitems=[('Home', 'Reset original view', 'home', 'home'), ('Back', 'Back to previous …"
      ]
     },
     "metadata": {},
     "output_type": "display_data"
    },
    {
     "data": {
      "text/plain": [
       "<matplotlib.image.AxesImage at 0x7f9dd4fd0990>"
      ]
     },
     "execution_count": 52,
     "metadata": {},
     "output_type": "execute_result"
    }
   ],
   "source": [
    "plt.figure()\n",
    "plt.subplot(121)\n",
    "plt.imshow(mask_pupil) #fits.getdata(self._input_folder_ncpa + ncpa_file))\n",
    "plt.subplot(122)\n",
    "plt.imshow(inst.phase_ncpa.shaped + mask_pupil + pupil_aperture.shaped)"
   ]
  },
  {
   "cell_type": "code",
   "execution_count": 62,
   "id": "36914e9c",
   "metadata": {},
   "outputs": [
    {
     "data": {
      "application/vnd.jupyter.widget-view+json": {
       "model_id": "661cae35d6eb4cefb1f8b725908d2f8b",
       "version_major": 2,
       "version_minor": 0
      },
      "text/plain": [
       "Canvas(toolbar=Toolbar(toolitems=[('Home', 'Reset original view', 'home', 'home'), ('Back', 'Back to previous …"
      ]
     },
     "metadata": {},
     "output_type": "display_data"
    },
    {
     "data": {
      "text/plain": [
       "<matplotlib.image.AxesImage at 0x7f9e048d0e10>"
      ]
     },
     "execution_count": 62,
     "metadata": {},
     "output_type": "execute_result"
    }
   ],
   "source": [
    "plt.figure()\n",
    "plt.imshow(inst.phase_residual.reshape((256, 256)))"
   ]
  },
  {
   "cell_type": "code",
   "execution_count": 25,
   "id": "1b4f3689",
   "metadata": {},
   "outputs": [
    {
     "data": {
      "application/vnd.jupyter.widget-view+json": {
       "model_id": "210dcbdef26f432ca3f77ee95030c862",
       "version_major": 2,
       "version_minor": 0
      },
      "text/plain": [
       "Canvas(toolbar=Toolbar(toolitems=[('Home', 'Reset original view', 'home', 'home'), ('Back', 'Back to previous …"
      ]
     },
     "metadata": {},
     "output_type": "display_data"
    },
    {
     "data": {
      "application/vnd.jupyter.widget-view+json": {
       "model_id": "4f460516e08e4405a4d27b5f7c486527",
       "version_major": 2,
       "version_minor": 0
      },
      "text/plain": [
       "Canvas(toolbar=Toolbar(toolitems=[('Home', 'Reset original view', 'home', 'home'), ('Back', 'Back to previous …"
      ]
     },
     "metadata": {},
     "output_type": "display_data"
    },
    {
     "data": {
      "text/plain": [
       "<matplotlib.image.AxesImage at 0x7f9de0d33d90>"
      ]
     },
     "execution_count": 25,
     "metadata": {},
     "output_type": "execute_result"
    }
   ],
   "source": [
    "plt.figure()\n",
    "# plt.imshow(pupil_aperture.shaped + lyot_aperture.shaped)\n",
    "plt.subplot(121)\n",
    "plt.imshow(pupil_aperture.shaped + lyot_aperture.shaped)\n",
    "plt.subplot(122)\n",
    "plt.imshow(pupil_aperture.shaped * mask_pupil+ lyot_aperture.shaped)\n",
    "\n",
    "plt.figure()\n",
    "plt.imshow(fits.getdata(self._input_folder_ncpa + ncpa_file))"
   ]
  },
  {
   "cell_type": "code",
   "execution_count": null,
   "id": "1f2bac0b",
   "metadata": {},
   "outputs": [],
   "source": []
  }
 ],
 "metadata": {
  "kernelspec": {
   "display_name": "Python 3",
   "language": "python",
   "name": "python3"
  },
  "language_info": {
   "codemirror_mode": {
    "name": "ipython",
    "version": 3
   },
   "file_extension": ".py",
   "mimetype": "text/x-python",
   "name": "python",
   "nbconvert_exporter": "python",
   "pygments_lexer": "ipython3",
   "version": "3.7.4"
  }
 },
 "nbformat": 4,
 "nbformat_minor": 5
}
